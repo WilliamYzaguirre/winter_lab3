{
 "cells": [
  {
   "cell_type": "code",
   "execution_count": 1,
   "metadata": {},
   "outputs": [],
   "source": [
    "import qutip\n",
    "from qutip.qip.operations import cnot, rx, ry, rz\n",
    "import numpy as np\n",
    "from qiskit.visualization import array_to_latex"
   ]
  },
  {
   "cell_type": "code",
   "execution_count": 17,
   "metadata": {},
   "outputs": [
    {
     "data": {
      "text/latex": [
       "$$\n",
       "\n",
       "\\begin{bmatrix}\n",
       "0 & 0 & 0 & 0  \\\\\n",
       " 0 & 0 & 0 & 0  \\\\\n",
       " 0 & 0 & 2 & 0  \\\\\n",
       " 0 & 0 & 0 & 2  \\\\\n",
       " \\end{bmatrix}\n",
       "$$"
      ],
      "text/plain": [
       "<IPython.core.display.Latex object>"
      ]
     },
     "execution_count": 17,
     "metadata": {},
     "output_type": "execute_result"
    }
   ],
   "source": [
    "\n",
    "proj1 = qutip.basis(4,0)*qutip.basis(4,0).dag() + qutip.basis(4,1)*qutip.basis(4,1).dag()\n",
    "proj2 = qutip.basis(4,2)*qutip.basis(4,2).dag()+qutip.basis(4,3)*qutip.basis(4,3).dag()\n",
    "\n",
    "array_to_latex(*proj2)"
   ]
  },
  {
   "cell_type": "code",
   "execution_count": 19,
   "metadata": {},
   "outputs": [
    {
     "ename": "TypeError",
     "evalue": "Incompatible Qobj shapes",
     "output_type": "error",
     "traceback": [
      "\u001b[1;31m---------------------------------------------------------------------------\u001b[0m",
      "\u001b[1;31mTypeError\u001b[0m                                 Traceback (most recent call last)",
      "\u001b[1;32m<ipython-input-19-8532491afd83>\u001b[0m in \u001b[0;36m<module>\u001b[1;34m\u001b[0m\n\u001b[1;32m----> 1\u001b[1;33m \u001b[0marray_to_latex\u001b[0m\u001b[1;33m(\u001b[0m\u001b[1;33m(\u001b[0m\u001b[0mqutip\u001b[0m\u001b[1;33m.\u001b[0m\u001b[0mbasis\u001b[0m\u001b[1;33m(\u001b[0m\u001b[1;36m4\u001b[0m\u001b[1;33m,\u001b[0m\u001b[1;36m0\u001b[0m\u001b[1;33m)\u001b[0m\u001b[1;33m*\u001b[0m\u001b[0mqutip\u001b[0m\u001b[1;33m.\u001b[0m\u001b[0mbasis\u001b[0m\u001b[1;33m(\u001b[0m\u001b[1;36m4\u001b[0m\u001b[1;33m,\u001b[0m\u001b[1;36m0\u001b[0m\u001b[1;33m)\u001b[0m\u001b[1;33m.\u001b[0m\u001b[0mdag\u001b[0m\u001b[1;33m(\u001b[0m\u001b[1;33m)\u001b[0m\u001b[1;33m)\u001b[0m\u001b[1;33m*\u001b[0m\u001b[0mrz\u001b[0m\u001b[1;33m(\u001b[0m\u001b[0mnp\u001b[0m\u001b[1;33m.\u001b[0m\u001b[0mpi\u001b[0m\u001b[1;33m/\u001b[0m\u001b[1;36m2\u001b[0m\u001b[1;33m)\u001b[0m\u001b[1;33m)\u001b[0m\u001b[1;33m\u001b[0m\u001b[1;33m\u001b[0m\u001b[0m\n\u001b[0m",
      "\u001b[1;32mc:\\Users\\willi\\anaconda3\\lib\\site-packages\\qutip\\qobj.py\u001b[0m in \u001b[0;36m__mul__\u001b[1;34m(self, other)\u001b[0m\n\u001b[0;32m    553\u001b[0m \u001b[1;33m\u001b[0m\u001b[0m\n\u001b[0;32m    554\u001b[0m             \u001b[1;32melse\u001b[0m\u001b[1;33m:\u001b[0m\u001b[1;33m\u001b[0m\u001b[1;33m\u001b[0m\u001b[0m\n\u001b[1;32m--> 555\u001b[1;33m                 \u001b[1;32mraise\u001b[0m \u001b[0mTypeError\u001b[0m\u001b[1;33m(\u001b[0m\u001b[1;34m\"Incompatible Qobj shapes\"\u001b[0m\u001b[1;33m)\u001b[0m\u001b[1;33m\u001b[0m\u001b[1;33m\u001b[0m\u001b[0m\n\u001b[0m\u001b[0;32m    556\u001b[0m \u001b[1;33m\u001b[0m\u001b[0m\n\u001b[0;32m    557\u001b[0m         \u001b[1;32melif\u001b[0m \u001b[0misinstance\u001b[0m\u001b[1;33m(\u001b[0m\u001b[0mother\u001b[0m\u001b[1;33m,\u001b[0m \u001b[0mnp\u001b[0m\u001b[1;33m.\u001b[0m\u001b[0mndarray\u001b[0m\u001b[1;33m)\u001b[0m\u001b[1;33m:\u001b[0m\u001b[1;33m\u001b[0m\u001b[1;33m\u001b[0m\u001b[0m\n",
      "\u001b[1;31mTypeError\u001b[0m: Incompatible Qobj shapes"
     ]
    }
   ],
   "source": [
    "array_to_latex((qutip.basis(4,0)*qutip.basis(4,0).dag())*rz(np.pi/2))"
   ]
  },
  {
   "cell_type": "code",
   "execution_count": 53,
   "metadata": {},
   "outputs": [
    {
     "data": {
      "text/latex": [
       "$$\n",
       "\n",
       "\\begin{bmatrix}\n",
       "-i & 0 & 0 & 0  \\\\\n",
       " 0 & 0 & 0 & -i  \\\\\n",
       " 0 & -1 & 0 & 0  \\\\\n",
       " 0 & 0 & 1 & 0  \\\\\n",
       " \\end{bmatrix}\n",
       "$$"
      ],
      "text/plain": [
       "<IPython.core.display.Latex object>"
      ]
     },
     "execution_count": 53,
     "metadata": {},
     "output_type": "execute_result"
    }
   ],
   "source": [
    "u1 = qutip.tensor(ry(np.pi/2), qutip.qeye(2))\n",
    "u2 = rzz3\n",
    "u3 = qutip.tensor(rx(np.pi/2), ry(np.pi/2))\n",
    "u4 = rzz3\n",
    "u5 = qutip.tensor(qutip.qeye(2), rx(np.pi/2))\n",
    "temp = u5*u4*u3*u2*u1\n",
    "array_to_latex(temp)"
   ]
  },
  {
   "cell_type": "code",
   "execution_count": 47,
   "metadata": {},
   "outputs": [
    {
     "data": {
      "text/latex": [
       "$$\n",
       "\n",
       "\\begin{bmatrix}\n",
       "1 & 0 & 0 & 0  \\\\\n",
       " 0 & 0 & 0 & 1  \\\\\n",
       " 0 & 1 & 0 & 0  \\\\\n",
       " 0 & 0 & 1 & 0  \\\\\n",
       " \\end{bmatrix}\n",
       "$$"
      ],
      "text/plain": [
       "<IPython.core.display.Latex object>"
      ]
     },
     "execution_count": 47,
     "metadata": {},
     "output_type": "execute_result"
    }
   ],
   "source": [
    "array_to_latex(P1)"
   ]
  },
  {
   "cell_type": "code",
   "execution_count": 2,
   "metadata": {},
   "outputs": [
    {
     "data": {
      "text/latex": [
       "$$\n",
       "\n",
       "\\begin{bmatrix}\n",
       "\\tfrac{1}{\\sqrt{2}}(-1 + i) & 0 & 0 & 0  \\\\\n",
       " 0 & \\tfrac{1}{\\sqrt{2}}(-1 + i) & 0 & 0  \\\\\n",
       " 0 & 0 & 0 & \\tfrac{1}{\\sqrt{2}}(-1 + i)  \\\\\n",
       " 0 & 0 & \\tfrac{1}{\\sqrt{2}}(-1 + i) & 0  \\\\\n",
       " \\end{bmatrix}\n",
       "$$"
      ],
      "text/plain": [
       "<IPython.core.display.Latex object>"
      ]
     },
     "execution_count": 2,
     "metadata": {},
     "output_type": "execute_result"
    }
   ],
   "source": [
    "rzz = qutip.Qobj(np.array([[np.exp(1j*np.pi/4),0,0,0],[0, np.exp(-1j*np.pi/4),0,0],[0,0,np.exp(-1j*np.pi/4),0],[0,0,0,np.exp(1j*np.pi/4)]]), dims=[[2,2],[2,2]])\n",
    "rzz3 = qutip.Qobj(np.array([[np.exp(3*1j*np.pi/4),0,0,0],[0, np.exp(3*-1j*np.pi/4),0,0],[0,0,np.exp(3*-1j*np.pi/4),0],[0,0,0,np.exp(3*1j*np.pi/4)]]), dims=[[2,2],[2,2]])\n",
    "\n",
    "\n",
    "u1 = qutip.tensor(qutip.qeye(2), ry(np.pi/4))\n",
    "u2 = qutip.tensor(qutip.qeye(2), rx(np.pi))\n",
    "u3 = qutip.tensor(qutip.qeye(2), ry(-np.pi/4))\n",
    "u4 = qutip.tensor(rz(np.pi/2), qutip.qeye(2))\n",
    "u5 = qutip.tensor(qutip.qeye(2), rz(np.pi/2))\n",
    "u6 = rzz\n",
    "u7 = qutip.tensor(qutip.qeye(2), ry(np.pi/4))\n",
    "u8 = qutip.tensor(qutip.qeye(2), rx(np.pi))\n",
    "u9 = qutip.tensor(qutip.qeye(2), ry(-np.pi/4))\n",
    "gp_cnot = u9*u8*u7*u6*u5*u4*u3*u2*u1\n",
    "array_to_latex(gp_cnot)"
   ]
  },
  {
   "cell_type": "code",
   "execution_count": 32,
   "metadata": {},
   "outputs": [
    {
     "data": {
      "text/latex": [
       "$$\n",
       "\n",
       "\\begin{bmatrix}\n",
       "\\tfrac{1}{\\sqrt{2}}(1 + i) & 0  \\\\\n",
       " 0 & \\tfrac{1}{\\sqrt{2}}(1 - i)  \\\\\n",
       " \\end{bmatrix}\n",
       "$$"
      ],
      "text/plain": [
       "<IPython.core.display.Latex object>"
      ]
     },
     "execution_count": 32,
     "metadata": {},
     "output_type": "execute_result"
    }
   ],
   "source": [
    "array_to_latex(rz(-1*np.pi/2))"
   ]
  },
  {
   "cell_type": "code",
   "execution_count": 29,
   "metadata": {},
   "outputs": [
    {
     "data": {
      "text/latex": [
       "$$\n",
       "\n",
       "\\begin{bmatrix}\n",
       "\\tfrac{1}{\\sqrt{2}}(1 + i) & 0 & 0 & 0  \\\\\n",
       " 0 & \\tfrac{1}{\\sqrt{2}}(1 - i) & 0 & 0  \\\\\n",
       " 0 & 0 & \\tfrac{1}{\\sqrt{2}}(1 - i) & 0  \\\\\n",
       " 0 & 0 & 0 & \\tfrac{1}{\\sqrt{2}}(1 + i)  \\\\\n",
       " \\end{bmatrix}\n",
       "$$"
      ],
      "text/plain": [
       "<IPython.core.display.Latex object>"
      ]
     },
     "execution_count": 29,
     "metadata": {},
     "output_type": "execute_result"
    }
   ],
   "source": [
    "array_to_latex(rzz)"
   ]
  },
  {
   "cell_type": "code",
   "execution_count": 82,
   "metadata": {},
   "outputs": [
    {
     "data": {
      "text/latex": [
       "$$\n",
       "\n",
       "\\begin{bmatrix}\n",
       "5 & 0 & 0 & 0  \\\\\n",
       " 0 & -5 & 0 & 0  \\\\\n",
       " 0 & 0 & 3 & 0  \\\\\n",
       " 0 & 0 & 0 & -3  \\\\\n",
       " \\end{bmatrix}\n",
       "$$"
      ],
      "text/plain": [
       "<IPython.core.display.Latex object>"
      ]
     },
     "execution_count": 82,
     "metadata": {},
     "output_type": "execute_result"
    }
   ],
   "source": [
    "# attempting their p1 sequence\n",
    "u1 = qutip.tensor(rx(np.pi/2), qutip.qeye(2))\n",
    "u2 = rzz\n",
    "u3 = qutip.tensor(ry(np.pi/2), rx(np.pi/2))\n",
    "u4 = rzz\n",
    "u5 = qutip.tensor(qutip.qeye(2), ry(np.pi/2))\n",
    "p1_pulse = (u5*u4*u3*u2*u1)\n",
    "p1_pulse_d = p1_pulse.dag()\n",
    "array_to_latex(qutip.Qobj(p1_pulse.data*v.data*p1_pulse_d.data))"
   ]
  },
  {
   "cell_type": "code",
   "execution_count": 83,
   "metadata": {},
   "outputs": [
    {
     "data": {
      "text/latex": [
       "$$\n",
       "\n",
       "\\begin{bmatrix}\n",
       "5 & 0 & 0 & 0  \\\\\n",
       " 0 & -3 & 0 & 0  \\\\\n",
       " 0 & 0 & -5 & 0  \\\\\n",
       " 0 & 0 & 0 & 3  \\\\\n",
       " \\end{bmatrix}\n",
       "$$"
      ],
      "text/plain": [
       "<IPython.core.display.Latex object>"
      ]
     },
     "execution_count": 83,
     "metadata": {},
     "output_type": "execute_result"
    }
   ],
   "source": [
    "# attempting their p2 sequence\n",
    "u1 = qutip.tensor(qutip.qeye(2),rx(np.pi/2))\n",
    "u2 = rzz\n",
    "u3 = qutip.tensor(rx(np.pi/2), ry(np.pi/2))\n",
    "u4 = rzz\n",
    "u5 = qutip.tensor(ry(np.pi/2), qutip.qeye(2))\n",
    "p2_pulse = (u5*u4*u3*u2*u1)\n",
    "p2_pulse_d = p2_pulse.dag()\n",
    "array_to_latex(qutip.Qobj(p2_pulse.data*v.data*p2_pulse_d.data))"
   ]
  },
  {
   "cell_type": "code",
   "execution_count": 3,
   "metadata": {},
   "outputs": [],
   "source": [
    "P1 = (cnot(2,control=0,target=1)*cnot(2,control=1,target=0))\n",
    "P1d = P1.dag()\n",
    "P2 = (cnot(2,control=1,target=0)*cnot(2,control=0,target=1))\n",
    "P2d = P2.dag()\n",
    "v = qutip.Qobj([[5,0,0,0],[0,3,0,0],[0,0,-3,0],[0,0,0,-5]])\n",
    "cn = cnot(2,0,1)"
   ]
  },
  {
   "cell_type": "code",
   "execution_count": 44,
   "metadata": {},
   "outputs": [
    {
     "data": {
      "text/latex": [
       "$$\n",
       "\n",
       "\\begin{bmatrix}\n",
       "5 & 0 & 0 & 0  \\\\\n",
       " 0 & -5 & 0 & 0  \\\\\n",
       " 0 & 0 & 3 & 0  \\\\\n",
       " 0 & 0 & 0 & -3  \\\\\n",
       " \\end{bmatrix}\n",
       "$$"
      ],
      "text/plain": [
       "<IPython.core.display.Latex object>"
      ]
     },
     "execution_count": 44,
     "metadata": {},
     "output_type": "execute_result"
    }
   ],
   "source": [
    "array_to_latex(qutip.Qobj(P1.data*v.data*P1d.data))"
   ]
  },
  {
   "cell_type": "code",
   "execution_count": 84,
   "metadata": {},
   "outputs": [
    {
     "name": "stdout",
     "output_type": "stream",
     "text": [
      "Quantum object: dims = [[4], [4]], shape = (4, 4), type = oper, isherm = True\n",
      "Qobj data =\n",
      "[[ 5.  0.  0.  0.]\n",
      " [ 0. -5.  0.  0.]\n",
      " [ 0.  0. -3.  0.]\n",
      " [ 0.  0.  0.  3.]]\n",
      "Carbon peaks at (-6+0j), (10+0j)\n"
     ]
    }
   ],
   "source": [
    "# P1 00\n",
    "P1 = (cnot(2,control=0,target=1)*cnot(2,control=1,target=0))\n",
    "P1d = P1.dag()\n",
    "p1_00 = qutip.Qobj(cn*P1.data*v.data*P1d.data*cn)\n",
    "print(p1_00)\n",
    "print(\"Carbon peaks at {}, {}\".format((p1_00[2][0][2]-p1_00[3][0][3]), (p1_00[0][0][0]-p1_00[1][0][1])))"
   ]
  },
  {
   "cell_type": "code",
   "execution_count": 85,
   "metadata": {},
   "outputs": [
    {
     "name": "stdout",
     "output_type": "stream",
     "text": [
      "Quantum object: dims = [[4], [4]], shape = (4, 4), type = oper, isherm = True\n",
      "Qobj data =\n",
      "[[ 5.  0.  0.  0.]\n",
      " [ 0. -3.  0.  0.]\n",
      " [ 0.  0.  3.  0.]\n",
      " [ 0.  0.  0. -5.]]\n",
      "Carbon peaks at (8+0j), (8+0j)\n"
     ]
    }
   ],
   "source": [
    "# P2 00\n",
    "P2 = (cnot(2,control=1,target=0)*cnot(2,control=0,target=1))\n",
    "P2d = P2.dag()\n",
    "p2_00 = qutip.Qobj(cn*P2.data*v.data*P2d.data*cn)\n",
    "print(p2_00)\n",
    "print(\"Carbon peaks at {}, {}\".format((p2_00[2][0][2]-p2_00[3][0][3]), (p2_00[0][0][0]-p2_00[1][0][1])))"
   ]
  },
  {
   "cell_type": "code",
   "execution_count": 86,
   "metadata": {},
   "outputs": [
    {
     "name": "stdout",
     "output_type": "stream",
     "text": [
      "Quantum object: dims = [[4], [4]], shape = (4, 4), type = oper, isherm = True\n",
      "Qobj data =\n",
      "[[-3.  0.  0.  0.]\n",
      " [ 0.  3.  0.  0.]\n",
      " [ 0.  0.  5.  0.]\n",
      " [ 0.  0.  0. -5.]]\n",
      "Carbon peaks at (10+0j), (-6+0j)\n"
     ]
    }
   ],
   "source": [
    "# P1 01\n",
    "P1 = qutip.tensor(rx(np.pi),rx(np.pi))*(cnot(2,control=0,target=1)*cnot(2,control=1,target=0))\n",
    "P1d = P1.dag()\n",
    "p1_01 = qutip.Qobj(cn*P1.data*v.data*P1d.data*cn)\n",
    "print(p1_01)\n",
    "print(\"Carbon peaks at {}, {}\".format((p1_01[2][0][2]-p1_01[3][0][3]), (p1_01[0][0][0]-p1_01[1][0][1])))"
   ]
  },
  {
   "cell_type": "code",
   "execution_count": 87,
   "metadata": {},
   "outputs": [
    {
     "name": "stdout",
     "output_type": "stream",
     "text": [
      "Quantum object: dims = [[4], [4]], shape = (4, 4), type = oper, isherm = True\n",
      "Qobj data =\n",
      "[[-5.  0.  0.  0.]\n",
      " [ 0.  3.  0.  0.]\n",
      " [ 0.  0. -3.  0.]\n",
      " [ 0.  0.  0.  5.]]\n",
      "Carbon peaks at (-8+0j), (-8+0j)\n"
     ]
    }
   ],
   "source": [
    "# P2 01\n",
    "P2 = qutip.tensor(rx(np.pi),qutip.qeye(2))*(cnot(2,control=1,target=0)*cnot(2,control=0,target=1))\n",
    "P2d = P2.dag()\n",
    "p2_01 = qutip.Qobj(cn*P2.data*v.data*P2d.data*cn)\n",
    "print(p2_01)\n",
    "print(\"Carbon peaks at {}, {}\".format((p2_01[2][0][2]-p2_01[3][0][3]), (p2_01[0][0][0]-p2_01[1][0][1])))"
   ]
  },
  {
   "cell_type": "code",
   "execution_count": 88,
   "metadata": {},
   "outputs": [
    {
     "name": "stdout",
     "output_type": "stream",
     "text": [
      "Quantum object: dims = [[4], [4]], shape = (4, 4), type = oper, isherm = True\n",
      "Qobj data =\n",
      "[[-5.  0.  0.  0.]\n",
      " [ 0.  5.  0.  0.]\n",
      " [ 0.  0.  3.  0.]\n",
      " [ 0.  0.  0. -3.]]\n",
      "Carbon peaks at (6+0j), (-10+0j)\n"
     ]
    }
   ],
   "source": [
    "# P1 10\n",
    "P1 = qutip.tensor(qutip.qeye(2),rx(np.pi))*(cnot(2,control=0,target=1)*cnot(2,control=1,target=0))\n",
    "P1d = P1.dag()\n",
    "p1_10 = qutip.Qobj(cn.data*P1.data*v.data*P1d.data*cn.data)\n",
    "print(p1_10)\n",
    "print(\"Carbon peaks at {}, {}\".format((p1_10[2][0][2]-p1_10[3][0][3]), (p1_10[0][0][0]-p1_10[1][0][1])))"
   ]
  },
  {
   "cell_type": "code",
   "execution_count": 89,
   "metadata": {},
   "outputs": [
    {
     "name": "stdout",
     "output_type": "stream",
     "text": [
      "Quantum object: dims = [[4], [4]], shape = (4, 4), type = oper, isherm = True\n",
      "Qobj data =\n",
      "[[ 3.  0.  0.  0.]\n",
      " [ 0. -5.  0.  0.]\n",
      " [ 0.  0.  5.  0.]\n",
      " [ 0.  0.  0. -3.]]\n",
      "Carbon peaks at (8+0j), (8+0j)\n"
     ]
    }
   ],
   "source": [
    "# P2 10\n",
    "P2 = qutip.tensor(rx(np.pi),rx(np.pi))*(cnot(2,control=1,target=0)*cnot(2,control=0,target=1))\n",
    "P2d = P2.dag()\n",
    "p2_10 = qutip.Qobj(cn*P2.data*v.data*P2d.data*cn)\n",
    "print(p2_10)\n",
    "print(\"Carbon peaks at {}, {}\".format((p2_10[2][0][2]-p2_10[3][0][3]), (p2_10[0][0][0]-p2_10[1][0][1])))"
   ]
  },
  {
   "cell_type": "code",
   "execution_count": 90,
   "metadata": {},
   "outputs": [
    {
     "name": "stdout",
     "output_type": "stream",
     "text": [
      "Quantum object: dims = [[4], [4]], shape = (4, 4), type = oper, isherm = True\n",
      "Qobj data =\n",
      "[[ 3.  0.  0.  0.]\n",
      " [ 0. -3.  0.  0.]\n",
      " [ 0.  0. -5.  0.]\n",
      " [ 0.  0.  0.  5.]]\n",
      "Carbon peaks at (-10+0j), (6+0j)\n"
     ]
    }
   ],
   "source": [
    "# P1 11\n",
    "P1 = qutip.tensor(rx(np.pi),qutip.qeye(2))*(cnot(2,control=0,target=1)*cnot(2,control=1,target=0))\n",
    "P1d = P1.dag()\n",
    "p1_11 = qutip.Qobj(cn*P1.data*v.data*P1d.data*cn)\n",
    "print(p1_11)\n",
    "print(\"Carbon peaks at {}, {}\".format((p1_11[2][0][2]-p1_11[3][0][3]), (p1_11[0][0][0]-p1_11[1][0][1])))"
   ]
  },
  {
   "cell_type": "code",
   "execution_count": 91,
   "metadata": {},
   "outputs": [
    {
     "name": "stdout",
     "output_type": "stream",
     "text": [
      "Quantum object: dims = [[4], [4]], shape = (4, 4), type = oper, isherm = True\n",
      "Qobj data =\n",
      "[[-3.  0.  0.  0.]\n",
      " [ 0.  5.  0.  0.]\n",
      " [ 0.  0. -5.  0.]\n",
      " [ 0.  0.  0.  3.]]\n",
      "Carbon peaks at (-8+0j), (-8+0j)\n"
     ]
    }
   ],
   "source": [
    "# P2 11\n",
    "P2 = qutip.tensor(qutip.qeye(2),rx(np.pi))*(cnot(2,control=1,target=0)*cnot(2,control=0,target=1))\n",
    "P2d = P2.dag()\n",
    "p2_11 = qutip.Qobj(cn*P2.data*v.data*P2d.data*cn)\n",
    "print(p2_11)\n",
    "print(\"Carbon peaks at {}, {}\".format((p2_11[2][0][2]-p2_11[3][0][3]), (p2_11[0][0][0]-p2_11[1][0][1])))"
   ]
  },
  {
   "cell_type": "code",
   "execution_count": 92,
   "metadata": {},
   "outputs": [
    {
     "name": "stdout",
     "output_type": "stream",
     "text": [
      "Quantum object: dims = [[4], [4]], shape = (4, 4), type = oper, isherm = True\n",
      "Qobj data =\n",
      "[[ 5.          0.          0.          0.        ]\n",
      " [ 0.         -1.66666667  0.          0.        ]\n",
      " [ 0.          0.         -1.          0.        ]\n",
      " [ 0.          0.          0.         -2.33333333]]\n",
      "Quantum object: dims = [[4], [4]], shape = (4, 4), type = oper, isherm = True\n",
      "Qobj data =\n",
      "[[-1.          0.          0.          0.        ]\n",
      " [ 0.          3.          0.          0.        ]\n",
      " [ 0.          0.         -0.33333333  0.        ]\n",
      " [ 0.          0.          0.         -1.66666667]]\n",
      "Quantum object: dims = [[4], [4]], shape = (4, 4), type = oper, isherm = True\n",
      "Qobj data =\n",
      "[[ 1.          0.          0.          0.        ]\n",
      " [ 0.          1.          0.          0.        ]\n",
      " [ 0.          0.          1.66666667  0.        ]\n",
      " [ 0.          0.          0.         -3.66666667]]\n",
      "Quantum object: dims = [[4], [4]], shape = (4, 4), type = oper, isherm = True\n",
      "Qobj data =\n",
      "[[ 1.66666667  0.          0.          0.        ]\n",
      " [ 0.          1.66666667  0.          0.        ]\n",
      " [ 0.          0.         -4.33333333  0.        ]\n",
      " [ 0.          0.          0.          1.        ]]\n"
     ]
    }
   ],
   "source": [
    "p_00_avg = (1/3)*(v+p1_00+p2_00)\n",
    "p_01_avg = (1/3)*(v+p1_01+p2_01)\n",
    "p_10_avg = (1/3)*(v+p1_10+p2_10)\n",
    "p_11_avg = (1/3)*(v+p1_11+p2_11)\n",
    "print(p_00_avg)\n",
    "print(p_01_avg)\n",
    "print(p_10_avg)\n",
    "print(p_11_avg)"
   ]
  },
  {
   "cell_type": "code",
   "execution_count": 101,
   "metadata": {},
   "outputs": [
    {
     "data": {
      "text/latex": [
       "$$\n",
       "\n",
       "\\begin{bmatrix}\n",
       "5 & 0 & 0 & 0  \\\\\n",
       " 0 & -5 & 0 & 0  \\\\\n",
       " 0 & 0 & 3 & 0  \\\\\n",
       " 0 & 0 & 0 & -3  \\\\\n",
       " \\end{bmatrix}\n",
       "$$"
      ],
      "text/plain": [
       "<IPython.core.display.Latex object>"
      ]
     },
     "execution_count": 101,
     "metadata": {},
     "output_type": "execute_result"
    }
   ],
   "source": [
    "# p1\n",
    "\n",
    "# 90x H\n",
    "u2 = qutip.tensor(rx(np.pi/2), qutip.qeye(2))\n",
    "# rzz\n",
    "u3 = rzz\n",
    "# ry rx\n",
    "u4 = qutip.tensor(ry(np.pi/2), rx(np.pi/2))\n",
    "# rzz\n",
    "u5 = rzz\n",
    "# y C 90\n",
    "u6 = qutip.tensor(qutip.qeye(2), ry(np.pi/2))\n",
    "temp = u6*u5*u4*u3*u2\n",
    "tempd = temp.dag()\n",
    "array_to_latex(qutip.Qobj(temp.data*v.data*tempd.data))\n",
    "#array_to_latex(temp)"
   ]
  },
  {
   "cell_type": "code",
   "execution_count": 98,
   "metadata": {},
   "outputs": [
    {
     "data": {
      "text/latex": [
       "$$\n",
       "\n",
       "\\begin{bmatrix}\n",
       "5 & 0 & 0 & 0  \\\\\n",
       " 0 & -5 & 0 & 0  \\\\\n",
       " 0 & 0 & 3 & 0  \\\\\n",
       " 0 & 0 & 0 & -3  \\\\\n",
       " \\end{bmatrix}\n",
       "$$"
      ],
      "text/plain": [
       "<IPython.core.display.Latex object>"
      ]
     },
     "execution_count": 98,
     "metadata": {},
     "output_type": "execute_result"
    }
   ],
   "source": [
    "array_to_latex(qutip.Qobj(P1.data*v.data*P1d.data))"
   ]
  },
  {
   "cell_type": "code",
   "execution_count": 99,
   "metadata": {},
   "outputs": [
    {
     "data": {
      "text/latex": [
       "$$\n",
       "\n",
       "\\begin{bmatrix}\n",
       "5 & 0 & 0 & 0  \\\\\n",
       " 0 & -3 & 0 & 0  \\\\\n",
       " 0 & 0 & -5 & 0  \\\\\n",
       " 0 & 0 & 0 & 3  \\\\\n",
       " \\end{bmatrix}\n",
       "$$"
      ],
      "text/plain": [
       "<IPython.core.display.Latex object>"
      ]
     },
     "execution_count": 99,
     "metadata": {},
     "output_type": "execute_result"
    }
   ],
   "source": [
    "array_to_latex(qutip.Qobj(P2.data*v.data*P2d.data))"
   ]
  },
  {
   "cell_type": "code",
   "execution_count": null,
   "metadata": {},
   "outputs": [],
   "source": [
    "u1 = qutip.tensor(qutip.qeye(2), ry(-np.pi/2))\n",
    "u2 = qutip.tensor()\n"
   ]
  }
 ],
 "metadata": {
  "kernelspec": {
   "display_name": "base",
   "language": "python",
   "name": "python3"
  },
  "language_info": {
   "codemirror_mode": {
    "name": "ipython",
    "version": 3
   },
   "file_extension": ".py",
   "mimetype": "text/x-python",
   "name": "python",
   "nbconvert_exporter": "python",
   "pygments_lexer": "ipython3",
   "version": "3.8.3"
  },
  "orig_nbformat": 4,
  "vscode": {
   "interpreter": {
    "hash": "1870f1194fb5b3d43b6d32e845741389586dbe9c4e1e45e17e0f6602cfe22778"
   }
  }
 },
 "nbformat": 4,
 "nbformat_minor": 2
}
